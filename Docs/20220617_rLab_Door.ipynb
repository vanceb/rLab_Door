{
 "cells": [
  {
   "cell_type": "markdown",
   "metadata": {},
   "source": [
    "# rLab Door Controller Design"
   ]
  },
  {
   "cell_type": "markdown",
   "metadata": {},
   "source": [
    "\n",
    "## Introduction\n",
    "\n",
    "The rLab door failed meaning that members could not access rLab using their RFID cards.\n",
    "It turned out to be an issues with the actuator in the door, but whilst troubleshooting it became apparent that the control circuitry wasn't in a great state.\n",
    "I have offered to create a tidyier replacement; this is the design document."
   ]
  },
  {
   "cell_type": "markdown",
   "metadata": {},
   "source": [
    "### Current System\n",
    "\n",
    "![What a mess](img/20220615_Electronics_Overview.jpg)\n",
    "\n",
    "The current system comprises:\n",
    "\n",
    "* Raspberry Pi - Provides overall control, allows network access, syncs members data from the members database, and authenticates RFID card access\n",
    "* Arduino - interfaces between the Pi and the 12V switching needed to operate the door\n",
    "* Power Supply Board - Converts incoming DC to voltages used around the system, including battery charging for a sealed lead acid battery which ensures the door continues to operate during a power cut\n",
    "* Relay Interface Board - Currently sits as a shield above the Arduino providing connectivity to the relay which provides a 12V pulse to open the door."
   ]
  },
  {
   "cell_type": "markdown",
   "metadata": {},
   "source": [
    "## Scope of the Project"
   ]
  },
  {
   "cell_type": "markdown",
   "metadata": {},
   "source": [
    "### Out of Scope\n",
    "\n",
    "* The Raspberry Pi functionality is outside the scope of this project\n",
    "\n",
    "### In Scope\n",
    "\n",
    "* Power supplies including to the Pi\n",
    "* Battery backup and charging\n",
    "* Control of the door actuator under the command of the Pi\n",
    "* Add a display and/or LEDs to help troubleshooting\n",
    "* Change connections to plug and socket or screw terminals, instead of random twisted wires"
   ]
  },
  {
   "cell_type": "markdown",
   "metadata": {},
   "source": [
    "## Design Criteria"
   ]
  },
  {
   "cell_type": "markdown",
   "metadata": {},
   "source": [
    "### Design Principles\n",
    "\n",
    "* Aim for simplicity\n",
    "* Without breaking the first principle, enable flexibility of the design\n",
    "* Enable easy troubleshooting\n",
    "  * Provide displays or indications of fault conditions\n",
    "  * Provide serial log output"
   ]
  },
  {
   "cell_type": "markdown",
   "metadata": {},
   "source": [
    "### Project Requirements\n",
    "\n",
    "The design:\n",
    "\n",
    "* **Must** open the door when commanded by the Raspberry Pi\n",
    "* **Must** provide 5V power @ up to 1.5A to the Raspberry Pi\n",
    "* **Must** continue to operate through short power cuts\n",
    "* **Should** provide an LED indication and test points for each power rail\n",
    "* **Should** provide an LED indication and test point for the actuator output\n",
    "* **Should** include an earth stud for test point ease of use\n",
    "* **Should** provide USB programming and a serial console\n",
    "* **Should** make battery charge circuit adjustable so we can fine tune the charge voltage\n",
    "* **Could** Provide dual footprint for SMD and through-hole indicator LEDs\n",
    "* **Could** include a 16-Pin \"character display\" interface\n",
    "* **Could** include Neopixels for better status indication\n",
    "* **Could** drive the actuate output with up to 2.5A to allow for future changes to the way that the door operates\n",
    "* **Could** provide connectivity for a keypad to allow access using OTP codes\n",
    "* **Could** provide connectivity for an RFID card reader for potential future upgrades\n",
    "* **Wont** take over the functions currently performed by the Raspberry Pi (Yet!)"
   ]
  },
  {
   "cell_type": "markdown",
   "metadata": {},
   "source": [
    "### Power Supply"
   ]
  },
  {
   "cell_type": "markdown",
   "metadata": {},
   "source": [
    "\n",
    "#### Requirements\n",
    "\n",
    "1. **Must** provide the door actuator with 12V @ 2.5A (Quoted)\n",
    "2. **Must** provide the Raspberry Pi with 5V @ 1.3A. See [Raspberry Pi Power](#raspberry-pi-power)\n",
    "3. **Must** provide 3.3V @ 500mA for the ESP-32 microcontroller\n",
    "4. **Must** be able to operate the door through a short power cut - implies battery backup.\n",
    "5. **Could** provide additional current capability at 3.3V for peripherals"
   ]
  },
  {
   "cell_type": "markdown",
   "metadata": {},
   "source": [
    "##### Mains Voltage\n",
    "\n",
    "To make this project as safe as possible there will be no mains voltages used in the design.\n",
    "DC power input will be provided by an encapsulated external power supply."
   ]
  },
  {
   "cell_type": "markdown",
   "metadata": {},
   "source": [
    "##### Power Input\n",
    "\n",
    "The input power will need to provide at least 14V DC to charge backup batteries.\n",
    "Because of dropout in the charging system it is likely that the input voltage will need to be at least 17V.\n",
    "Ideal power supply voltage will be 18V-20V DC.\n",
    "This range is easily achieved with laptop style power supplies.\n"
   ]
  },
  {
   "cell_type": "markdown",
   "metadata": {},
   "source": [
    "##### Power Rails\n",
    "\n",
    "Because of the cascading of power rails, the current requirements accumulate from the bottom up.\n",
    "The quoted current capacity for each rail includes the current requirements of the rails derived from it.\n",
    "The figures are very much worst case and therefore the actual supply requrements will be significantly lower.\n",
    "That said, the use of a [90W, 20V supply](https://www.amazon.co.uk/DTK-Adapter-Computer-Charger-Notebook-lenovo-90w-7-9-5-5mm/dp/B07QL2TXD6) is reasonable.\n",
    "\n",
    "* $V_{In}$ = 18-24V\n",
    "  * Provided by external encapsulated power supply\n",
    "  * Current requirement = 3.6A\n",
    "* $V_{Batt}$ = 12V nominal (13.8V likely when charging)\n",
    "  * Needed to drive the door actuator\n",
    "  * Sealed lead-acid battery provides backup power on this rail\n",
    "  * Current requirement = 800mA (3.3V) + 1.3A (5V) + 1.5A ($V_{Batt}$)\n",
    "* $+5V$\n",
    "  * Power for Raspberry Pi\n",
    "  * Derived from $V_{Batt}$ using an efficient switching regulator, like [this](https://www.amazon.co.uk/dp/B08DQVJZH3)\n",
    "  * Current requirement = 800mA (3.3V) + 1.3A (5.5V) = 2.1A\n",
    "* $+3.3V$\n",
    "  * Power for microcontroller\n",
    "  * Derived from $+5V$ rail using an LDO linear regulator, such as the [AMS1117-3.3](https://octopart.com/datasheet/ams1117-3.3-ams-26604089)\n",
    "  * Current requirement = 800mA"
   ]
  },
  {
   "cell_type": "markdown",
   "metadata": {},
   "source": [
    "#### Raspberry Pi Power\n",
    "\n",
    "This [article](https://www.raspberrypi.com/documentation/computers/raspberry-pi.html) provides the following table giving typical power consumption figures for the Pi range:\n",
    "\n",
    "![Raspberry Pi typical power consumption](img/Pi_Power.png)\n",
    "\n",
    "Although the recommended power supply requirements are high, a lot of that power is to supply USB devices which could be connected to the Pi.\n",
    "We will not have a large number (if any) peripherals connected and can therefore use more conservative power supply requirements.\n",
    "The highest \"bare board\" consumption figures are for the Pi 400 @ 800mA.\n",
    "An additional budget of 500mA for peripherals places the supply requirement @ 1.3A"
   ]
  },
  {
   "cell_type": "markdown",
   "metadata": {},
   "source": [
    "\n",
    "#### Battery Charging\n",
    "\n",
    "Sealed lead-acid batteries are the standard backup supply used in fire and security alarms.\n",
    "They are well suited to trickle charging with few discharge cycles.\n",
    "Lithium cells are less well suited and are not therefore being considered.\n",
    "\n",
    "To trickle charge sealed lead-acid batteries this [article](https://www.power-sonic.com/blog/how-to-charge-a-lead-acid-battery/) suggests that you need to apply 2.3V/cell.\n",
    "So for a 12V, 6 cell battery this would be in the region of 13.8V.\n",
    "\n",
    "> The recommended constant float voltage is 2.25V-2.30V per cell.\n",
    "> Maintaining this float voltage will allow the battery to define its own current level and remain fully charged without having to disconnect the charger from the battery.\n",
    "> The trickle current for a fully charged battery floating at the recommended charge voltage will typically hover around the 0.001C rate (2mA for a 2Ah battery for example.)\n"
   ]
  },
  {
   "cell_type": "markdown",
   "metadata": {},
   "source": [
    "##### High Performance Charger (UC3906)\n",
    "\n",
    "The [datasheet](https://www.farnell.com/datasheets/45075.pdf) states that this can be configured to manage the charging and performance of lead-acid batteries, but the circuits are more complex and the solution is expensive, around £10/chip, and there seems to be a [lack of supply](https://octopart.com/search?q=uc3906) for these at present.\n",
    "\n",
    "Although this would provide more detailed information of the charging state over I2C to the microcontroller the availability and cost mean that I am discounting this option.\n",
    "Also it is probably overkill for the standby trickle charge situation where charging speed is not critical."
   ]
  },
  {
   "cell_type": "markdown",
   "metadata": {},
   "source": [
    "##### Simple option (LM317)\n",
    "\n",
    "The [datasheet](https://www.ti.com/lit/ds/symlink/lm317.pdf) has the following application for constant voltage battery charging:\n",
    "\n",
    "![LM317 Battery Charging Circuit](img/LM317_Charger.png)\n",
    "\n",
    "$R_s$ is used to protect the battery from high current or to limit the output in case of shortcircuit.\n",
    "The application note suggests $R_s = 0.2\\Omega$ this would give a short circuit current of around 6A, which would then be limited by the LM317 to around 0.5A-1.5A depending on the model.\n",
    "The datasheet says the following:\n",
    "\n",
    "> When an overload occurs the device shuts down Darlington NPN output stage or reduces the output current to prevent device damage.\n",
    "> The device will automatically reset from the overload.\n",
    "> The output may be reduced or alternate between on and off until the overload is removed.\n",
    "\n",
    "So the maximum power dissipation needed for $R_s$ is around 0.5W for the 1.5A version and 0.05W for the 500mA version.\n",
    "\n",
    "$R_1$ and $R_2$ set the output voltage.\n",
    "With the given values of $R1=240\\Omega$ and $R2=2.4k\\Omega$ the output voltage is:\n",
    "\n",
    "$ V_{out} = V_{ref} \\left(1 + \\frac{R_2}{R_1}\\right) $\n",
    "\n",
    "$ V_{out} = 1.25 \\left(1 + \\frac{2400}{240}\\right) = 13.75V  $\n",
    "\n",
    "These values are therefore good for the trickle charge application.\n",
    "However, because of potential tolerances in the components it would be sensible to make $R2 = 3K\\Omega$ variable resistor.\n",
    "\n",
    "These ICs are around £1.50 each and currently seem to be [available](https://octopart.com/lm317p-stmicroelectronics-530526?r=sp) to purchase.\n"
   ]
  },
  {
   "cell_type": "code",
   "execution_count": 8,
   "metadata": {},
   "outputs": [
    {
     "name": "stdout",
     "output_type": "stream",
     "text": [
      "The output voltage is: 13.75V\n"
     ]
    }
   ],
   "source": [
    "R1 = 240\n",
    "R2 = 2400\n",
    "VRef = 1.25\n",
    "VOut = VRef * (1 + R2/R1)\n",
    "print(f\"The output voltage is: {VOut}V\")"
   ]
  },
  {
   "cell_type": "markdown",
   "metadata": {},
   "source": [
    "## USB-C connector\n",
    "\n",
    "This [article](https://pcbartists.com/design/embedded/how-to-replace-microusb-with-usb-c-connector/) shows the following schematic for using a USB-C connector with USB 2.0 protocol.\n",
    "Although it uses a CP2102 instead of the CH340G it shows how the connections from the USB-C should be handled.\n",
    "\n",
    "![USB-C Connector for USB 2.0 Schematic](img/USB-C_2.0.png)\n"
   ]
  },
  {
   "cell_type": "markdown",
   "metadata": {},
   "source": [
    "## Thoughts from the design meeting \n",
    "\n",
    "* WG26 (Protocol) outdoor security keypad\n",
    "* Tamper input\n",
    "* 6 Neopixels for door confirmation\n",
    "* Provide second MOSFET switched output\n",
    "* Internal pushbutton for door actuate testing\n",
    "* Fuses on 12V output?\n",
    "* 12V Input via battery connector?\n",
    "* Level converter to 5V for neopixels\n",
    "* 2 x neopixels output?\n",
    "* Dual ESP?\n",
    "* Break out spare GPIO including some to the Pi header"
   ]
  }
 ],
 "metadata": {
  "kernelspec": {
   "display_name": "Python 3.10.4 ('venv': venv)",
   "language": "python",
   "name": "python3"
  },
  "language_info": {
   "codemirror_mode": {
    "name": "ipython",
    "version": 3
   },
   "file_extension": ".py",
   "mimetype": "text/x-python",
   "name": "python",
   "nbconvert_exporter": "python",
   "pygments_lexer": "ipython3",
   "version": "3.10.4"
  },
  "orig_nbformat": 4,
  "vscode": {
   "interpreter": {
    "hash": "0e9f79f17cbe55cfaecb6826b74935e3c4b2a15d6a7a8effc9af38ce15fcd085"
   }
  }
 },
 "nbformat": 4,
 "nbformat_minor": 2
}
