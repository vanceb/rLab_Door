{
 "cells": [
  {
   "cell_type": "markdown",
   "metadata": {},
   "source": [
    "# Design Process"
   ]
  },
  {
   "cell_type": "markdown",
   "metadata": {},
   "source": [
    "## Intro\n",
    "\n",
    "I have used JLCPCB to manufacture blank boards before, but this board is my first attempt to design a board that will be (mostly) populated by [JLCPCB](https://jlcpcb.com/).\n",
    "My design process needs to be slightly different to ensure I get the right components with the right footprints in my design."
   ]
  },
  {
   "cell_type": "markdown",
   "metadata": {},
   "source": [
    "## JLCPCB Manufacture\n",
    "\n",
    "### Basic and Extended Parts\n",
    "\n",
    "JLCPCB have a set of \"Basic Parts\", and access to LCSC parts that are \"Extended Parts\".\n",
    "Extended parts have a $3 additional charge for each different component.\n",
    "This covers their costs of having to load up the pick'n'place machine with the new components.\n",
    "Additionally, they may have a larger order quantity that you do when using LCSC parts.\n",
    "There is a strong financial benefit from staying away from extended components!\n",
    "\n"
   ]
  },
  {
   "cell_type": "markdown",
   "metadata": {},
   "source": [
    "## Adding Parts to Kicad\n",
    "\n",
    "### Scematic Part\n",
    "\n",
    "### Footprint\n",
    "\n",
    "![MP1584 Pinout](img/MP1584-Pinout.jpg)\n",
    "![MP1584 Size](img/MP1584_Size.jpg)"
   ]
  },
  {
   "cell_type": "markdown",
   "metadata": {},
   "source": [
    "## Kikit\n",
    "\n",
    "### Panelization\n",
    "\n",
    "~~~sh\n",
    "kikit panelize \\\n",
    "--layout 'grid; rows: 2; cols: 2; space: 2mm' \\\n",
    "--tabs 'fixed; width: 3mm; vcount: 2' \\\n",
    "--cuts 'mousebites; drill: 0.5mm; spacing: 1mm; offset: 0.2mm; prolong: 0.5mm' \\\n",
    "--framing 'frame; width: 5mm; space: 3mm; cuts: both' \\\n",
    "--post 'millradius: 1mm' \\\n",
    "CH340G_Programmer.kicad_pcb \\\n",
    "panel.kicad_pcb\n",
    "~~~\n",
    "\n",
    "### Fabrication\n",
    "\n",
    "~~~sh\n",
    "kikit fab jlcpcb \\\n",
    "--assembly \\\n",
    "--schematic CH340G_Programmer.kicad_sch \\\n",
    "CH340G_Programmer.kicad_pcb \\\n",
    "kikit_fab\n",
    "~~~\n"
   ]
  }
 ],
 "metadata": {
  "language_info": {
   "name": "python"
  },
  "orig_nbformat": 4
 },
 "nbformat": 4,
 "nbformat_minor": 2
}
